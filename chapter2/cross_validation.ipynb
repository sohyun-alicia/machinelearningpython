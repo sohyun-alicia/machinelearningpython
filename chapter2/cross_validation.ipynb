{
 "cells": [
  {
   "cell_type": "code",
   "execution_count": 6,
   "metadata": {},
   "outputs": [],
   "source": [
    "import pandas as pd\n",
    "from sklearn.utils.testing import all_estimators\n",
    "from sklearn.model_selection import KFold\n",
    "import warnings\n",
    "from sklearn.model_selection import cross_val_score\n",
    "\n",
    "# 붓꽃 데이터 읽어 들이기\n",
    "iris_data = pd.read_csv(\"iris.csv\", encoding=\"utf-8\")\n",
    "\n",
    "# 붓꽃 데이터를 레이블과 입력 데이터로 분리하기\n",
    "y = iris_data.loc[:, \"Name\"]\n",
    "x = iris_data.loc[:, [\"SepalLength\",\"SepalWidth\",\"PetalLength\",\"PetalWidth\"]]\n",
    "\n",
    "# classfier 알고리즘 모두 추출하기\n",
    "warnings.filterwarnings('ignore')\n",
    "allAlgorithms = all_estimators(type_filter=\"classifier\")"
   ]
  },
  {
   "cell_type": "code",
   "execution_count": 7,
   "metadata": {},
   "outputs": [
    {
     "name": "stdout",
     "output_type": "stream",
     "text": [
      "AdaBoostClassifier 의 정답률 = \n",
      "[0.96666667 0.93333333 0.9        0.96666667 0.93333333]\n",
      "BaggingClassifier 의 정답률 = \n",
      "[0.9        0.93333333 0.96666667 1.         0.96666667]\n",
      "BernoulliNB 의 정답률 = \n",
      "[0.2        0.23333333 0.26666667 0.3        0.23333333]\n",
      "CalibratedClassifierCV 의 정답률 = \n",
      "[0.96666667 0.96666667 0.83333333 0.93333333 0.86666667]\n",
      "CategoricalNB 의 정답률 = \n",
      "[0.9        0.93333333 0.93333333 1.         0.9       ]\n",
      "CheckingClassifier 의 정답률 = \n",
      "[nan nan nan nan nan]\n"
     ]
    },
    {
     "ename": "TypeError",
     "evalue": "__init__() missing 1 required positional argument: 'base_estimator'",
     "output_type": "error",
     "traceback": [
      "\u001b[1;31m---------------------------------------------------------------------------\u001b[0m",
      "\u001b[1;31mTypeError\u001b[0m                                 Traceback (most recent call last)",
      "\u001b[1;32m<ipython-input-7-80df1a012b5d>\u001b[0m in \u001b[0;36m<module>\u001b[1;34m\u001b[0m\n\u001b[0;32m      4\u001b[0m \u001b[1;32mfor\u001b[0m \u001b[1;33m(\u001b[0m\u001b[0mname\u001b[0m\u001b[1;33m,\u001b[0m \u001b[0malgorithm\u001b[0m\u001b[1;33m)\u001b[0m \u001b[1;32min\u001b[0m \u001b[0mallAlgorithms\u001b[0m\u001b[1;33m:\u001b[0m\u001b[1;33m\u001b[0m\u001b[1;33m\u001b[0m\u001b[0m\n\u001b[0;32m      5\u001b[0m     \u001b[1;31m# 각 알고리즘 객체 생성하기\u001b[0m\u001b[1;33m\u001b[0m\u001b[1;33m\u001b[0m\u001b[1;33m\u001b[0m\u001b[0m\n\u001b[1;32m----> 6\u001b[1;33m     \u001b[0mclf\u001b[0m \u001b[1;33m=\u001b[0m \u001b[0malgorithm\u001b[0m\u001b[1;33m(\u001b[0m\u001b[1;33m)\u001b[0m\u001b[1;33m\u001b[0m\u001b[1;33m\u001b[0m\u001b[0m\n\u001b[0m\u001b[0;32m      7\u001b[0m \u001b[1;33m\u001b[0m\u001b[0m\n\u001b[0;32m      8\u001b[0m     \u001b[1;31m# score 메서드를 가진 클래스를 대상으로 하기\u001b[0m\u001b[1;33m\u001b[0m\u001b[1;33m\u001b[0m\u001b[1;33m\u001b[0m\u001b[0m\n",
      "\u001b[1;31mTypeError\u001b[0m: __init__() missing 1 required positional argument: 'base_estimator'"
     ]
    }
   ],
   "source": [
    "# K-분할 크로스 밸리데이션 전용 객체\n",
    "kfold_cv = KFold(n_splits=5, shuffle=True)\n",
    "\n",
    "for (name, algorithm) in allAlgorithms:\n",
    "    # 각 알고리즘 객체 생성하기\n",
    "    clf = algorithm()\n",
    "    \n",
    "    # score 메서드를 가진 클래스를 대상으로 하기\n",
    "    if hasattr(clf, \"score\"):\n",
    "        # 크로스 밸리데이션\n",
    "        scores = cross_val_score(clf, x, y, cv=kfold_cv)\n",
    "        print(name, \"의 정답률 = \")\n",
    "        print(scores)"
   ]
  },
  {
   "cell_type": "code",
   "execution_count": null,
   "metadata": {},
   "outputs": [],
   "source": []
  }
 ],
 "metadata": {
  "kernelspec": {
   "display_name": "Python 3",
   "language": "python",
   "name": "python3"
  },
  "language_info": {
   "codemirror_mode": {
    "name": "ipython",
    "version": 3
   },
   "file_extension": ".py",
   "mimetype": "text/x-python",
   "name": "python",
   "nbconvert_exporter": "python",
   "pygments_lexer": "ipython3",
   "version": "3.7.6"
  }
 },
 "nbformat": 4,
 "nbformat_minor": 4
}
