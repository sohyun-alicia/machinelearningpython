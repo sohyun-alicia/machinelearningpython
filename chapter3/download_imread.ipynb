{
 "cells": [
  {
   "cell_type": "code",
   "execution_count": 4,
   "metadata": {},
   "outputs": [
    {
     "data": {
      "text/plain": [
       "('test.png', <http.client.HTTPMessage at 0x1c77bbba048>)"
      ]
     },
     "execution_count": 4,
     "metadata": {},
     "output_type": "execute_result"
    }
   ],
   "source": [
    "import urllib.request as req\n",
    "url = \"https://www.traveller.com.au/content/dam/images/g/u/n/q/h/0/image.related.articleLeadwide.620x349.gunpvd.png/1488330286332.png\"\n",
    "req.urlretrieve(url, \"test.png\")"
   ]
  },
  {
   "cell_type": "code",
   "execution_count": 5,
   "metadata": {},
   "outputs": [
    {
     "name": "stdout",
     "output_type": "stream",
     "text": [
      "[[[222 157  99]\n",
      "  [249 193 130]\n",
      "  [242 187 119]\n",
      "  ...\n",
      "  [131 145 138]\n",
      "  [192 200 195]\n",
      "  [196 199 197]]\n",
      "\n",
      " [[157  88  23]\n",
      "  [242 182 111]\n",
      "  [233 181 105]\n",
      "  ...\n",
      "  [ 66  85  78]\n",
      "  [ 79  93  86]\n",
      "  [170 178 173]]\n",
      "\n",
      " [[198 134  64]\n",
      "  [250 198 121]\n",
      "  [233 184 103]\n",
      "  ...\n",
      "  [ 87 107 102]\n",
      "  [ 31  45  39]\n",
      "  [ 77  86  83]]\n",
      "\n",
      " ...\n",
      "\n",
      " [[168 164 166]\n",
      "  [159 156 156]\n",
      "  [162 163 160]\n",
      "  ...\n",
      "  [128 128 134]\n",
      "  [121 121 127]\n",
      "  [115 115 120]]\n",
      "\n",
      " [[175 171 172]\n",
      "  [185 183 181]\n",
      "  [199 198 195]\n",
      "  ...\n",
      "  [105 106 110]\n",
      "  [107 108 112]\n",
      "  [115 116 120]]\n",
      "\n",
      " [[149 145 144]\n",
      "  [135 132 129]\n",
      "  [138 137 133]\n",
      "  ...\n",
      "  [190 191 195]\n",
      "  [131 132 136]\n",
      "  [124 125 129]]]\n"
     ]
    }
   ],
   "source": [
    "# OpenCV로 읽어 들이기\n",
    "import cv2\n",
    "img = cv2.imread(\"test.png\")\n",
    "print(img)"
   ]
  },
  {
   "cell_type": "code",
   "execution_count": 6,
   "metadata": {},
   "outputs": [
    {
     "name": "stdout",
     "output_type": "stream",
     "text": [
      "None\n"
     ]
    }
   ],
   "source": [
    "img = cv2.imread(\"존재하지_않는_파일.png\")\n",
    "print(img)"
   ]
  },
  {
   "cell_type": "code",
   "execution_count": null,
   "metadata": {},
   "outputs": [],
   "source": []
  }
 ],
 "metadata": {
  "kernelspec": {
   "display_name": "Python 3",
   "language": "python",
   "name": "python3"
  },
  "language_info": {
   "codemirror_mode": {
    "name": "ipython",
    "version": 3
   },
   "file_extension": ".py",
   "mimetype": "text/x-python",
   "name": "python",
   "nbconvert_exporter": "python",
   "pygments_lexer": "ipython3",
   "version": "3.7.6"
  }
 },
 "nbformat": 4,
 "nbformat_minor": 4
}
